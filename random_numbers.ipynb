{
 "cells": [
  {
   "cell_type": "code",
   "execution_count": 1,
   "id": "3ca955eb",
   "metadata": {},
   "outputs": [],
   "source": [
    "import random"
   ]
  },
  {
   "cell_type": "code",
   "execution_count": 2,
   "id": "abea6fb1",
   "metadata": {},
   "outputs": [
    {
     "data": {
      "text/plain": [
       "24"
      ]
     },
     "execution_count": 2,
     "metadata": {},
     "output_type": "execute_result"
    }
   ],
   "source": [
    "random.randint(-90,90)"
   ]
  },
  {
   "cell_type": "code",
   "execution_count": 3,
   "id": "629375a8",
   "metadata": {},
   "outputs": [
    {
     "data": {
      "text/plain": [
       "0.9562388212798527"
      ]
     },
     "execution_count": 3,
     "metadata": {},
     "output_type": "execute_result"
    }
   ],
   "source": [
    "random.random()"
   ]
  },
  {
   "cell_type": "code",
   "execution_count": 4,
   "id": "84c19ff3",
   "metadata": {},
   "outputs": [
    {
     "data": {
      "text/plain": [
       "2.607008230655682"
      ]
     },
     "execution_count": 4,
     "metadata": {},
     "output_type": "execute_result"
    }
   ],
   "source": [
    "# Combine .randint to .random functions to generate a floating point decimal btween -90 to 90\n",
    "# Which would be a random Latitude\n",
    "random_number = random.randint(-90,89)+random.random()\n",
    "random_number"
   ]
  },
  {
   "cell_type": "code",
   "execution_count": 5,
   "id": "13f7841d",
   "metadata": {},
   "outputs": [],
   "source": [
    "# Generate ten random floating-point decimal latitudes between –90 and 89.\n",
    "x = 1\n",
    "latitudes = []\n",
    "while x < 11:\n",
    "    random_lat = random.randint(-90, 89) + random.random()\n",
    "    latitudes.append(random_lat)\n",
    "    x += 1"
   ]
  },
  {
   "cell_type": "code",
   "execution_count": 6,
   "id": "6d2a8b85",
   "metadata": {},
   "outputs": [
    {
     "data": {
      "text/plain": [
       "[66.75483768893602,\n",
       " 12.077707967503116,\n",
       " 31.593865792379287,\n",
       " -80.66896950872898,\n",
       " 65.03245281331085,\n",
       " 54.77437396626443,\n",
       " 83.86413810965144,\n",
       " 87.70243607079676,\n",
       " -76.17170346503075,\n",
       " -23.559666889406373]"
      ]
     },
     "execution_count": 6,
     "metadata": {},
     "output_type": "execute_result"
    }
   ],
   "source": [
    "latitudes"
   ]
  },
  {
   "cell_type": "code",
   "execution_count": 7,
   "id": "18cffeac",
   "metadata": {},
   "outputs": [
    {
     "data": {
      "text/plain": [
       "-40"
      ]
     },
     "execution_count": 7,
     "metadata": {},
     "output_type": "execute_result"
    }
   ],
   "source": [
    "random.randrange(-90, 90, step=1)"
   ]
  },
  {
   "cell_type": "code",
   "execution_count": 8,
   "id": "a3424b54",
   "metadata": {},
   "outputs": [
    {
     "data": {
      "text/plain": [
       "-15"
      ]
     },
     "execution_count": 8,
     "metadata": {},
     "output_type": "execute_result"
    }
   ],
   "source": [
    "random.randrange(-90, 90, step=3)"
   ]
  },
  {
   "cell_type": "code",
   "execution_count": 9,
   "id": "f1561b86",
   "metadata": {},
   "outputs": [
    {
     "data": {
      "text/plain": [
       "6.192352339517782"
      ]
     },
     "execution_count": 9,
     "metadata": {},
     "output_type": "execute_result"
    }
   ],
   "source": [
    "# Can combine .randrange to .random functions to create a floating-point decimal\n",
    "# .unform can create a floating point decimal within numbers between parenthesis\n",
    "random.uniform(-90, 90)"
   ]
  },
  {
   "cell_type": "code",
   "execution_count": 10,
   "id": "7ca9bd86",
   "metadata": {},
   "outputs": [],
   "source": [
    "import numpy as np"
   ]
  },
  {
   "cell_type": "code",
   "execution_count": 11,
   "id": "92351256",
   "metadata": {},
   "outputs": [
    {
     "data": {
      "text/plain": [
       "-4.05967233142934"
      ]
     },
     "execution_count": 11,
     "metadata": {},
     "output_type": "execute_result"
    }
   ],
   "source": [
    "# Use NumPy chained with .uniform function to create a random decimal \n",
    "np.random.uniform(-90.000, 90.000)"
   ]
  },
  {
   "cell_type": "code",
   "execution_count": 12,
   "id": "2a133e60",
   "metadata": {},
   "outputs": [
    {
     "data": {
      "text/plain": [
       "61.42470269266795"
      ]
     },
     "execution_count": 12,
     "metadata": {},
     "output_type": "execute_result"
    }
   ],
   "source": [
    "# Another option, defining low and high boundaries:\n",
    "np.random.uniform(low=-90, high=90)"
   ]
  },
  {
   "cell_type": "code",
   "execution_count": 13,
   "id": "ef2b5097",
   "metadata": {},
   "outputs": [
    {
     "data": {
      "text/plain": [
       "array([ 24.70480714,   8.71383474,  33.87710555,  51.30540707,\n",
       "        67.03565048,  84.36272481,  77.43606553, -15.14111653,\n",
       "        64.82689268,  37.75383216,  84.23851226, -28.27825204,\n",
       "       -77.11985563,  76.80832102,  -3.24062224, -52.36302511,\n",
       "       -87.389234  , -34.80082756, -67.96951981,  46.77184943,\n",
       "       -24.32314003, -26.09965807,  29.25382151, -32.16614459,\n",
       "        57.93323274,  -2.72731527, -12.35182376,  75.25816772,\n",
       "        40.84762415, -43.55238348, -51.9384427 , -28.94514991,\n",
       "        60.32189262,  23.75089487, -85.86716425,  67.61662419,\n",
       "         3.28396131, -22.82393551,  27.45599364,  -8.86774456,\n",
       "        78.77781104, -89.81414266, -39.61839267,  89.50174939,\n",
       "       -78.64375772, -48.02266207, -68.14295161, -42.6494512 ,\n",
       "       -22.0324023 ,  87.51654386])"
      ]
     },
     "execution_count": 13,
     "metadata": {},
     "output_type": "execute_result"
    }
   ],
   "source": [
    "# Create an array using size function with NumPy\n",
    "np.random.uniform(-90.000, 90.000, size=50)"
   ]
  },
  {
   "cell_type": "code",
   "execution_count": 14,
   "id": "43597911",
   "metadata": {},
   "outputs": [],
   "source": [
    "# Now we will scale the above method to create an array to 1,500.\n",
    "# In order to check if the new method is faster than using the while loop,\n",
    "# we will use timeit function to time how long a code takes to run\n",
    "import timeit"
   ]
  },
  {
   "cell_type": "code",
   "execution_count": 15,
   "id": "4239b7f5",
   "metadata": {},
   "outputs": [
    {
     "name": "stdout",
     "output_type": "stream",
     "text": [
      "16.2 µs ± 185 ns per loop (mean ± std. dev. of 7 runs, 10000 loops each)\n"
     ]
    }
   ],
   "source": [
    "# use timeit magic command to time code performance of the chained method:\n",
    "%timeit np.random.uniform(-90.000, 90.000, size=1500)"
   ]
  },
  {
   "cell_type": "code",
   "execution_count": 16,
   "id": "01c81795",
   "metadata": {},
   "outputs": [
    {
     "name": "stdout",
     "output_type": "stream",
     "text": [
      "1.7 ms ± 54.9 µs per loop (mean ± std. dev. of 7 runs, 1000 loops each)\n"
     ]
    }
   ],
   "source": [
    "# now use timeit magic command to time code performance of the while loop method:\n",
    "def latitudes(size):\n",
    "    latitudes = []\n",
    "    x = 0\n",
    "    while x < (size):\n",
    "        random_lat = random.randint(-90, 90) + random.random()\n",
    "        latitudes.append(random_lat)\n",
    "        x += 1\n",
    "    return latitudes\n",
    "# Call the function with 1500.\n",
    "%timeit latitudes(1500)"
   ]
  },
  {
   "cell_type": "code",
   "execution_count": 17,
   "id": "7b36555f",
   "metadata": {},
   "outputs": [],
   "source": [
    "# Comparison: 16.4 microseconds versus 1.63 milliseconds \n",
    "# -- the shorter code is one-line instead of 11 lines\n",
    "# AND it runs 100 times faster!!"
   ]
  },
  {
   "cell_type": "code",
   "execution_count": 18,
   "id": "e17e14d1",
   "metadata": {},
   "outputs": [
    {
     "ename": "IndentationError",
     "evalue": "expected an indented block (588854986.py, line 8)",
     "output_type": "error",
     "traceback": [
      "\u001b[0;36m  File \u001b[0;32m\"/var/folders/q6/wpmm2j792h709x155djs4cv80000gn/T/ipykernel_8087/588854986.py\"\u001b[0;36m, line \u001b[0;32m8\u001b[0m\n\u001b[0;31m    latitudes.append(random_lat)\u001b[0m\n\u001b[0m    ^\u001b[0m\n\u001b[0;31mIndentationError\u001b[0m\u001b[0;31m:\u001b[0m expected an indented block\n"
     ]
    }
   ],
   "source": [
    "# Skill drill - for loop\n",
    "def latitudes(size):\n",
    "    latitudes = []\n",
    "    x = 0\n",
    "    for x in latitudes:\n",
    "        random_lat = random.randint(-90, 90) + random.random()\n",
    "        if latitudes(size)< 1500:\n",
    "        latitudes.append(random_lat)\n",
    "        x += 1\n",
    "    return latitudes\n",
    "# Call the function with 1500.\n",
    "%timeit latitudes"
   ]
  },
  {
   "cell_type": "code",
   "execution_count": null,
   "id": "8270e5f8",
   "metadata": {},
   "outputs": [],
   "source": []
  }
 ],
 "metadata": {
  "kernelspec": {
   "display_name": "PythonData",
   "language": "python",
   "name": "pythondata"
  },
  "language_info": {
   "codemirror_mode": {
    "name": "ipython",
    "version": 3
   },
   "file_extension": ".py",
   "mimetype": "text/x-python",
   "name": "python",
   "nbconvert_exporter": "python",
   "pygments_lexer": "ipython3",
   "version": "3.9.7"
  }
 },
 "nbformat": 4,
 "nbformat_minor": 5
}
